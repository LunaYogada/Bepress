{
 "cells": [
  {
   "cell_type": "code",
   "execution_count": 251,
   "metadata": {},
   "outputs": [],
   "source": [
    "from selenium import webdriver\n",
    "import requests\n",
    "import pandas as pd\n",
    "from bs4 import BeautifulSoup\n",
    "import numpy as np\n",
    "import re\n",
    "from selenium.webdriver.common.action_chains import ActionChains\n",
    "from selenium.webdriver.support.ui import WebDriverWait\n",
    "from selenium.webdriver.common.by import By\n",
    "from selenium.webdriver.support import expected_conditions as EC\n",
    "import time"
   ]
  },
  {
   "cell_type": "code",
   "execution_count": 283,
   "metadata": {},
   "outputs": [
    {
     "name": "stderr",
     "output_type": "stream",
     "text": [
      "/Users/li18/anaconda3/lib/python3.7/site-packages/ipykernel_launcher.py:5: DeprecationWarning: use options instead of chrome_options\n",
      "  \"\"\"\n"
     ]
    }
   ],
   "source": [
    "chromeOptions = webdriver.ChromeOptions()\n",
    "prefs = {\"download.default_directory\" : \"/Users/li18/Documents/Jupyter Projects/GSC\"}\n",
    "chromeOptions.add_experimental_option(\"prefs\",prefs)\n",
    "chromedriver = \"./chromedriver\"\n",
    "driver = webdriver.Chrome(executable_path=chromedriver, chrome_options=chromeOptions)"
   ]
  },
  {
   "cell_type": "code",
   "execution_count": 284,
   "metadata": {},
   "outputs": [],
   "source": [
    "# Open Google Chrome \n",
    "# driver = webdriver.Chrome('./chromedriver')\n",
    "\n",
    "url = \"https://www.google.com/webmasters/tools/home?hl=en\"\n",
    "driver.get(url)"
   ]
  },
  {
   "cell_type": "markdown",
   "metadata": {},
   "source": [
   
   ]
  },
  {
   "cell_type": "code",
   "execution_count": 310,
   "metadata": {},
   "outputs": [],
   "source": [
    "list_of_lists = []\n",
    "with open('list_institution.txt', 'r') as f:\n",
    "    for line in f:\n",
    "        li = line.strip(\",\")\n",
    "        inner_list = [elt.strip() for elt in li.split(\",\")]\n",
    "        list_of_lists.append(inner_list)"
   ]
  },
  {
   "cell_type": "code",
   "execution_count": 318,
   "metadata": {},
   "outputs": [
    {
     "data": {
      "text/plain": [
       "['crossworks.holycross.edu']"
      ]
     },
     "execution_count": 318,
     "metadata": {},
     "output_type": "execute_result"
    }
   ],
   "source": [
    "re.findall(\"https://(.*?)/\", 'https://crossworks.holycross.edu/')"
   ]
  },
  {
   "cell_type": "code",
   "execution_count": 321,
   "metadata": {},
   "outputs": [],
   "source": [
    "lists = []\n",
    "for i in range(0,len(list_of_lists)):\n",
    "    txt = list_of_lists[i][0]\n",
    "    url = re.findall(\"http://(.*?)/\", txt)\n",
    "    lists= lists + url"
   ]
  },
  {
   "cell_type": "code",
   "execution_count": 322,
   "metadata": {},
   "outputs": [
    {
     "data": {
      "text/plain": [
       "461"
      ]
     },
     "execution_count": 322,
     "metadata": {},
     "output_type": "execute_result"
    }
   ],
   "source": [
    "len(lists)"
   ]
  },
  {
   "cell_type": "code",
   "execution_count": 307,
   "metadata": {
    "scrolled": true
   },
   "outputs": [
    {
     "data": {
      "text/plain": [
       "['digitalarchive.gsu.edu',\n",
       " 'lawscl.org',\n",
       " 'scholarworks.gvsu.edu',\n",
       " 'knightscholar.geneseo.edu',\n",
       " 'digitalcommons.law.uw.edu',\n",
       " 'scholarworks.smith.edu',\n",
       " 'soar.stonehill.edu',\n",
       " 'repository.vtc.edu.hk',\n",
       " 'scholarlyworks.lvhn.org',\n",
       " 'epublications.bond.edu.au',\n",
       " 'statedocs.maine.gov',\n",
       " 'ddc.duq.edu',\n",
       " 'digitalcommons.law.villanova.edu',\n",
       " 'erepository.law.shu.edu',\n",
       " 'ir.lib.uwo.ca',\n",
       " 'lux.lawrence.edu',\n",
       " 'digitalcommons.hsc.unt.edu',\n",
       " 'law.bepress.com',\n",
       " 'scholar.colorado.edu',\n",
       " 'digitalcommons.pepperdine.edu',\n",
       " 'scholars.law.unlv.edu',\n",
       " 'digitalrepository.smu.edu',\n",
       " 'suny.researchcommons.us',\n",
       " 'digitalscholarship.bjmlspa.tsu.edu',\n",
       " 'laijle.alacde.org',\n",
       " 'digitalcommons.auctr.edu',\n",
       " 'scholarlyworks.beaumonthealth.org',\n",
       " 'oer.galileo.usg.edu',\n",
       " 'scholarship.kentlaw.iit.edu',\n",
       " 'researchlibrary.agric.wa.gov.au',\n",
       " 'scholarsmine.mst.edu',\n",
       " 'commons.ln.edu.hk',\n",
       " 'scholarworks.wmich.edu',\n",
       " 'ejournal.tnmed.org',\n",
       " 'escholar.salve.edu',\n",
       " 'www.law.bepress.com',\n",
       " 'network.bepress.com',\n",
       " 'scholar.smu.edu',\n",
       " 'dc.swosu.edu',\n",
       " 'dc.engconfintl.org',\n",
       " 'ecommons.luc.edu',\n",
       " 'illinois.researchcommons.us',\n",
       " 'scholar.afit.edu',\n",
       " 'scholarworks.gsu.edu',\n",
       " 'kentucky.researchcommons.us',\n",
       " 'dc.uthsc.edu',\n",
       " 'digitalcommons.wpi.edu',\n",
       " 'digitalcommons.mcgeorge.edu',\n",
       " 'digitalknowledge.babson.edu',\n",
       " 'testing.bepress.com',\n",
       " 'laijle.alacde.org',\n",
       " 'scholar.afit.edu',\n",
       " 'api.bepress.com',\n",
       " 'www.exhibit.xavier.edu',\n",
       " 'digitalcommons.wcl.american.edu',\n",
       " 'www.repository.law.indiana.edu',\n",
       " 'www.inovaideas.org',\n",
       " 'digitalcommons.unf.edu',\n",
       " 'digitalcommons.uconn.edu',\n",
       " 'pdxscholar.library.pdx.edu',\n",
       " 'epublications.bond.edu.au',\n",
       " 'services.bepress.com',\n",
       " 'scholarsrepository.llu.edu',\n",
       " 'digitalcommons.sia.edu',\n",
       " 'publications.nasfaa.org',\n",
       " 'scholarship.law.colorado.edu',\n",
       " 'ejournal.tnmed.org',\n",
       " 'ro.ecu.edu.au',\n",
       " 'pennsylvania.researchcommons.us',\n",
       " 'www.publishing.waldenu.edu',\n",
       " 'repository.wcsu.edu',\n",
       " 'publications.nasfaa.org',\n",
       " 'lawpublications.seattleu.edu',\n",
       " 'scholarship.law.uci.edu',\n",
       " 'digitalcommons.biola.edu',\n",
       " 'digitalcommons.luthersem.edu',\n",
       " 'lawscl.org',\n",
       " 'www.worldtransitresearch.info',\n",
       " 'digitalcommons.winthrop.edu',\n",
       " 'academicworks.cuny.edu']"
      ]
     },
     "execution_count": 307,
     "metadata": {},
     "output_type": "execute_result"
    }
   ],
   "source": [
    "lists"
   ]
  },
  {
   "cell_type": "code",
   "execution_count": 210,
   "metadata": {},
   "outputs": [],
   "source": [
    "# just note a great way to flat list of lists\n",
    "flat_list = [item for sublist in lists for item in sublist]"
   ]
  },
  {
   "cell_type": "code",
   "execution_count": 295,
   "metadata": {},
   "outputs": [],
   "source": [
    "mylist = [1,2,3]"
   ]
  },
  {
   "cell_type": "code",
   "execution_count": 298,
   "metadata": {},
   "outputs": [
    {
     "data": {
      "text/plain": [
       "1"
      ]
     },
     "execution_count": 298,
     "metadata": {},
     "output_type": "execute_result"
    }
   ],
   "source": [
    "mylist.pop(0)"
   ]
  },
  {
   "cell_type": "code",
   "execution_count": 297,
   "metadata": {},
   "outputs": [],
   "source": [
    "#create failed list\n",
    "request_list = {\"try\":lists,\n",
    "               \"success\":[]}"
   ]
  },
  {
   "cell_type": "code",
   "execution_count": 300,
   "metadata": {},
   "outputs": [
    {
     "data": {
      "text/plain": [
       "938"
      ]
     },
     "execution_count": 300,
     "metadata": {},
     "output_type": "execute_result"
    }
   ],
   "source": [
    "len(request_list[\"try\"])"
   ]
  },
  {
   "cell_type": "code",
   "execution_count": 305,
   "metadata": {},
   "outputs": [
    {
     "name": "stdout",
     "output_type": "stream",
     "text": [
      "soar.stonehill.edu failed\n",
      "repository.vtc.edu.hk failed\n",
      "epublications.bond.edu.au failed\n",
      "statedocs.maine.gov failed\n",
      "ddc.duq.edu failed\n",
      "erepository.law.shu.edu failed\n",
      "law.bepress.com failed\n",
      "digitalrepository.smu.edu failed\n",
      "suny.researchcommons.us failed\n",
      "digitalscholarship.bjmlspa.tsu.edu failed\n",
      "laijle.alacde.org failed\n",
      "digitalcommons.auctr.edu failed\n",
      "scholarlyworks.beaumonthealth.org failed\n",
      "scholarsmine.mst.edu failed\n",
      "commons.ln.edu.hk failed\n",
      "ejournal.tnmed.org failed\n",
      "escholar.salve.edu failed\n",
      "www.law.bepress.com failed\n",
      "dc.engconfintl.org failed\n",
      "illinois.researchcommons.us failed\n",
      "scholar.afit.edu failed\n",
      "kentucky.researchcommons.us failed\n",
      "digitalcommons.mcgeorge.edu failed\n",
      "testing.bepress.com failed\n",
      "laijle.alacde.org failed\n",
      "scholar.afit.edu failed\n",
      "api.bepress.com failed\n",
      "www.inovaideas.org failed\n",
      "digitalcommons.uconn.edu failed\n",
      "epublications.bond.edu.au failed\n",
      "services.bepress.com failed\n",
      "scholarsrepository.llu.edu failed\n",
      "publications.nasfaa.org failed\n",
      "scholarship.law.colorado.edu failed\n",
      "ejournal.tnmed.org failed\n",
      "ro.ecu.edu.au failed\n",
      "pennsylvania.researchcommons.us failed\n",
      "www.publishing.waldenu.edu failed\n",
      "publications.nasfaa.org failed\n",
      "lawpublications.seattleu.edu failed\n",
      "lawscl.org failed\n"
     ]
    }
   ],
   "source": [
    "url_before_str =  \"https://search.google.com/u/1/search-console/index?resource_id=https%3A%2F%2F\"\n",
    "url_after_str = \"%2F\"\n",
    "for li in request_list[\"try\"][39:]:\n",
    "    try:\n",
    "        new_url = url_before_str + li + url_after_str\n",
    "        driver.get(new_url)\n",
    "        for i in range(2,5):\n",
    "            WebDriverWait(driver, 5)\\\n",
    "            .until(EC.element_to_be_clickable((By.XPATH, f'//div[@class=\"AaD0rc\"]/div[{i}]/div[1]')))\\\n",
    "            .click()\n",
    "        time.sleep(2)\n",
    "        driver.find_element_by_xpath('//div[@data-tooltip=\"Export data\"]').click()\n",
    "        time.sleep(1)\n",
    "        WebDriverWait(driver, 10)\\\n",
    "        .until(EC.element_to_be_clickable((By.XPATH, '//span[@class=\"z80M1\"][1]')))\\\n",
    "        .click()\n",
    "        time.sleep(5)\n",
    "        request_list[\"try\"].remove(li)\n",
    "        request_list[\"success\"].append(li)\n",
    "    except:\n",
    "        print(f\"{li} failed\")\n",
    "    \n",
    "    "
   ]
  },
  {
   "cell_type": "code",
   "execution_count": 302,
   "metadata": {},
   "outputs": [],
   "source": [
    "import json\n",
    "\n",
    "file = open('GSC_data.json', 'w+')\n",
    "\n",
    "json.dump(request_list, file)\n",
    "\n",
    "file.close()"
   ]
  },
  {
   "cell_type": "code",
   "execution_count": null,
   "metadata": {},
   "outputs": [],
   "source": [
    "file = open('GSC_data.json', 'r')"
   ]
  },
  {
   "cell_type": "code",
   "execution_count": 285,
   "metadata": {},
   "outputs": [],
   "source": [
    "for i in range(2,5):\n",
    "    WebDriverWait(driver, 5)\\\n",
    "    .until(EC.element_to_be_clickable((By.XPATH, f'//div[@class=\"AaD0rc\"]/div[{i}]/div[1]')))\\\n",
    "    .click()"
   ]
  },
  {
   "cell_type": "code",
   "execution_count": 286,
   "metadata": {},
   "outputs": [],
   "source": [
    "driver.find_element_by_xpath('//div[@data-tooltip=\"Export data\"]').click()"
   ]
  },
  {
   "cell_type": "code",
   "execution_count": 287,
   "metadata": {},
   "outputs": [],
   "source": [
    "WebDriverWait(driver, 10)\\\n",
    "    .until(EC.element_to_be_clickable((By.XPATH, '//span[@class=\"z80M1\"][1]')))\\\n",
    "    .click()\n"
   ]
  },
  {
   "cell_type": "code",
   "execution_count": null,
   "metadata": {},
   "outputs": [],
   "source": []
  }
 ],
 "metadata": {
  "kernelspec": {
   "display_name": "Python 3",
   "language": "python",
   "name": "python3"
  },
  "language_info": {
   "codemirror_mode": {
    "name": "ipython",
    "version": 3
   },
   "file_extension": ".py",
   "mimetype": "text/x-python",
   "name": "python",
   "nbconvert_exporter": "python",
   "pygments_lexer": "ipython3",
   "version": "3.7.2"
  }
 },
 "nbformat": 4,
 "nbformat_minor": 2
}
